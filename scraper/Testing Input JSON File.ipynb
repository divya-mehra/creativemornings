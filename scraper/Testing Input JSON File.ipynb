{
 "cells": [
  {
   "cell_type": "code",
   "execution_count": 22,
   "metadata": {
    "collapsed": true
   },
   "outputs": [],
   "source": [
    "import json\n",
    "import re"
   ]
  },
  {
   "cell_type": "code",
   "execution_count": 2,
   "metadata": {
    "collapsed": false
   },
   "outputs": [
    {
     "name": "stdout",
     "output_type": "stream",
     "text": [
      "/Users/divyamehra\n"
     ]
    }
   ],
   "source": [
    "cd Projects/creativemornings/scraper"
   ]
  },
  {
   "cell_type": "code",
   "execution_count": 66,
   "metadata": {
    "collapsed": false
   },
   "outputs": [],
   "source": [
    "with open(\"people.json\", 'r') as infile:\n",
    "        contents = json.load(infile)\n",
    "\n",
    "        links = []\n",
    "        for item in contents:\n",
    "            profile = str(item['profilelink'])\n",
    "            profile = \"https://creativemornings.com\" + profile.partition(\"href=\")[2].partition(\">View\")[0].strip('\\\"')\n",
    "            links.append(profile)"
   ]
  },
  {
   "cell_type": "code",
   "execution_count": 67,
   "metadata": {
    "collapsed": false
   },
   "outputs": [
    {
     "data": {
      "text/plain": [
       "'https://creativemornings.com/people/kenners25'"
      ]
     },
     "execution_count": 67,
     "metadata": {},
     "output_type": "execute_result"
    }
   ],
   "source": [
    "links[50]"
   ]
  },
  {
   "cell_type": "code",
   "execution_count": 54,
   "metadata": {
    "collapsed": false
   },
   "outputs": [
    {
     "name": "stdout",
     "output_type": "stream",
     "text": [
      "https://creativemornings.com/people/askjay\n",
      "https://creativemornings.com/people/atiragram\n",
      "https://creativemornings.com/people/alexandre_rjr\n",
      "https://creativemornings.com/people/erliancm81\n",
      "https://creativemornings.com/people/blake_organ\n",
      "https://creativemornings.com/people/tycjan\n",
      "https://creativemornings.com/people/leandroff10\n",
      "https://creativemornings.com/people/bmmarin\n",
      "https://creativemornings.com/people/allieripp\n",
      "https://creativemornings.com/people/jlforrest\n",
      "https://creativemornings.com/people/onecraftchick\n",
      "https://creativemornings.com/people/zakqwy\n"
     ]
    }
   ],
   "source": [
    "for item in dsample:\n",
    "    redo = str(item['profilelink'])\n",
    "    redo = \"https://creativemornings.com\" + redo.partition(\"href=\")[2].partition(\">View\")[0].strip('\\\"')"
   ]
  },
  {
   "cell_type": "code",
   "execution_count": null,
   "metadata": {
    "collapsed": true
   },
   "outputs": [],
   "source": []
  }
 ],
 "metadata": {
  "kernelspec": {
   "display_name": "Python 2",
   "language": "python",
   "name": "python2"
  },
  "language_info": {
   "codemirror_mode": {
    "name": "ipython",
    "version": 2
   },
   "file_extension": ".py",
   "mimetype": "text/x-python",
   "name": "python",
   "nbconvert_exporter": "python",
   "pygments_lexer": "ipython2",
   "version": "2.7.14"
  }
 },
 "nbformat": 4,
 "nbformat_minor": 2
}
