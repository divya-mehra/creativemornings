{
 "cells": [
  {
   "cell_type": "code",
   "execution_count": 22,
   "metadata": {
    "collapsed": true
   },
   "outputs": [],
   "source": [
    "import json\n",
    "import re"
   ]
  },
  {
   "cell_type": "code",
   "execution_count": 2,
   "metadata": {
    "collapsed": false
   },
   "outputs": [
    {
     "name": "stdout",
     "output_type": "stream",
     "text": [
      "/Users/divyamehra\n"
     ]
    }
   ],
   "source": [
    "cd Projects/creativemornings/scraper"
   ]
  },
  {
   "cell_type": "code",
   "execution_count": null,
   "metadata": {
    "collapsed": true
   },
   "outputs": [],
   "source": [
    "with open(\"people.json\", 'r') as infile:\n",
    "        contents = json.load(infile)\n",
    "\n",
    "        links = []\n",
    "        for item in links:\n",
    "            "
   ]
  },
  {
   "cell_type": "code",
   "execution_count": 9,
   "metadata": {
    "collapsed": true
   },
   "outputs": [],
   "source": [
    "dsample = [\n",
    "{\"profilelink\": [\"<a class=\\\"person-link\\\" href=\\\"/people/askjay\\\">View profile</a>\"], \"name\": [\"<h1 class=\\\"person-name\\\">The JAY  Granieri</h1>\"]},\n",
    "{\"profilelink\": [\"<a class=\\\"person-link\\\" href=\\\"/people/atiragram\\\">View profile</a>\"], \"name\": [\"<h1 class=\\\"person-name\\\">margarita mercado</h1>\"]},\n",
    "{\"profilelink\": [\"<a class=\\\"person-link\\\" href=\\\"/people/alexandre_rjr\\\">View profile</a>\"], \"name\": [\"<h1 class=\\\"person-name\\\">Alexandre  R.</h1>\"]},\n",
    "{\"profilelink\": [\"<a class=\\\"person-link\\\" href=\\\"/people/erliancm81\\\">View profile</a>\"], \"name\": [\"<h1 class=\\\"person-name\\\">Lilian  Calop</h1>\"]},\n",
    "{\"profilelink\": [\"<a class=\\\"person-link\\\" href=\\\"/people/blake_organ\\\">View profile</a>\"], \"name\": [\"<h1 class=\\\"person-name\\\">Blake Organ</h1>\"]},\n",
    "{\"profilelink\": [\"<a class=\\\"person-link\\\" href=\\\"/people/tycjan\\\">View profile</a>\"], \"name\": [\"<h1 class=\\\"person-name\\\">Jan Tyc</h1>\"]},\n",
    "{\"profilelink\": [\"<a class=\\\"person-link\\\" href=\\\"/people/leandroff10\\\">View profile</a>\"], \"name\": [\"<h1 class=\\\"person-name\\\">Leandro Fernandez</h1>\"]},\n",
    "{\"profilelink\": [\"<a class=\\\"person-link\\\" href=\\\"/people/bmmarin\\\">View profile</a>\"], \"name\": [\"<h1 class=\\\"person-name\\\">Beatriz Marin</h1>\"]},\n",
    "{\"profilelink\": [\"<a class=\\\"person-link\\\" href=\\\"/people/allieripp\\\">View profile</a>\"], \"name\": [\"<h1 class=\\\"person-name\\\">Allie Ripplinger</h1>\"]},\n",
    "{\"profilelink\": [\"<a class=\\\"person-link\\\" href=\\\"/people/jlforrest\\\">View profile</a>\"], \"name\": [\"<h1 class=\\\"person-name\\\">J.L.  Forrest</h1>\"]},\n",
    "{\"profilelink\": [\"<a class=\\\"person-link\\\" href=\\\"/people/onecraftchick\\\">View profile</a>\"], \"name\": [\"<h1 class=\\\"person-name\\\">maria demko</h1>\"]},\n",
    "{\"profilelink\": [\"<a class=\\\"person-link\\\" href=\\\"/people/zakqwy\\\">View profile</a>\"], \"name\": [\"<h1 class=\\\"person-name\\\">Zach Fredin</h1>\"]}]"
   ]
  },
  {
   "cell_type": "code",
   "execution_count": 10,
   "metadata": {
    "collapsed": false
   },
   "outputs": [
    {
     "data": {
      "text/plain": [
       "list"
      ]
     },
     "execution_count": 10,
     "metadata": {},
     "output_type": "execute_result"
    }
   ],
   "source": [
    "type(dsample)"
   ]
  },
  {
   "cell_type": "code",
   "execution_count": 11,
   "metadata": {
    "collapsed": false
   },
   "outputs": [
    {
     "data": {
      "text/plain": [
       "{'name': ['<h1 class=\"person-name\">margarita mercado</h1>'],\n",
       " 'profilelink': ['<a class=\"person-link\" href=\"/people/atiragram\">View profile</a>']}"
      ]
     },
     "execution_count": 11,
     "metadata": {},
     "output_type": "execute_result"
    }
   ],
   "source": [
    "dsample[1]"
   ]
  },
  {
   "cell_type": "code",
   "execution_count": 12,
   "metadata": {
    "collapsed": false
   },
   "outputs": [
    {
     "data": {
      "text/plain": [
       "dict"
      ]
     },
     "execution_count": 12,
     "metadata": {},
     "output_type": "execute_result"
    }
   ],
   "source": [
    "type(dsample[1])"
   ]
  },
  {
   "cell_type": "code",
   "execution_count": 17,
   "metadata": {
    "collapsed": false
   },
   "outputs": [
    {
     "name": "stdout",
     "output_type": "stream",
     "text": [
      "[('profilelink', ['<a class=\"person-link\" href=\"/people/askjay\">View profile</a>']), ('name', ['<h1 class=\"person-name\">The JAY  Granieri</h1>'])]\n",
      "[('profilelink', ['<a class=\"person-link\" href=\"/people/atiragram\">View profile</a>']), ('name', ['<h1 class=\"person-name\">margarita mercado</h1>'])]\n",
      "[('profilelink', ['<a class=\"person-link\" href=\"/people/alexandre_rjr\">View profile</a>']), ('name', ['<h1 class=\"person-name\">Alexandre  R.</h1>'])]\n",
      "[('profilelink', ['<a class=\"person-link\" href=\"/people/erliancm81\">View profile</a>']), ('name', ['<h1 class=\"person-name\">Lilian  Calop</h1>'])]\n",
      "[('profilelink', ['<a class=\"person-link\" href=\"/people/blake_organ\">View profile</a>']), ('name', ['<h1 class=\"person-name\">Blake Organ</h1>'])]\n",
      "[('profilelink', ['<a class=\"person-link\" href=\"/people/tycjan\">View profile</a>']), ('name', ['<h1 class=\"person-name\">Jan Tyc</h1>'])]\n",
      "[('profilelink', ['<a class=\"person-link\" href=\"/people/leandroff10\">View profile</a>']), ('name', ['<h1 class=\"person-name\">Leandro Fernandez</h1>'])]\n",
      "[('profilelink', ['<a class=\"person-link\" href=\"/people/bmmarin\">View profile</a>']), ('name', ['<h1 class=\"person-name\">Beatriz Marin</h1>'])]\n",
      "[('profilelink', ['<a class=\"person-link\" href=\"/people/allieripp\">View profile</a>']), ('name', ['<h1 class=\"person-name\">Allie Ripplinger</h1>'])]\n",
      "[('profilelink', ['<a class=\"person-link\" href=\"/people/jlforrest\">View profile</a>']), ('name', ['<h1 class=\"person-name\">J.L.  Forrest</h1>'])]\n",
      "[('profilelink', ['<a class=\"person-link\" href=\"/people/onecraftchick\">View profile</a>']), ('name', ['<h1 class=\"person-name\">maria demko</h1>'])]\n",
      "[('profilelink', ['<a class=\"person-link\" href=\"/people/zakqwy\">View profile</a>']), ('name', ['<h1 class=\"person-name\">Zach Fredin</h1>'])]\n"
     ]
    }
   ],
   "source": [
    "for item in dsample:\n",
    "    print item.items()"
   ]
  },
  {
   "cell_type": "code",
   "execution_count": 54,
   "metadata": {
    "collapsed": false
   },
   "outputs": [
    {
     "name": "stdout",
     "output_type": "stream",
     "text": [
      "https://creativemornings.com/people/askjay\n",
      "https://creativemornings.com/people/atiragram\n",
      "https://creativemornings.com/people/alexandre_rjr\n",
      "https://creativemornings.com/people/erliancm81\n",
      "https://creativemornings.com/people/blake_organ\n",
      "https://creativemornings.com/people/tycjan\n",
      "https://creativemornings.com/people/leandroff10\n",
      "https://creativemornings.com/people/bmmarin\n",
      "https://creativemornings.com/people/allieripp\n",
      "https://creativemornings.com/people/jlforrest\n",
      "https://creativemornings.com/people/onecraftchick\n",
      "https://creativemornings.com/people/zakqwy\n"
     ]
    }
   ],
   "source": [
    "for item in dsample:\n",
    "    redo = str(item['profilelink'])\n",
    "    redo = \"https://creativemornings.com\" + redo.partition(\"href=\")[2].partition(\">View\")[0].strip('\\\"')"
   ]
  },
  {
   "cell_type": "code",
   "execution_count": null,
   "metadata": {
    "collapsed": true
   },
   "outputs": [],
   "source": []
  }
 ],
 "metadata": {
  "kernelspec": {
   "display_name": "Python 2",
   "language": "python",
   "name": "python2"
  },
  "language_info": {
   "codemirror_mode": {
    "name": "ipython",
    "version": 2
   },
   "file_extension": ".py",
   "mimetype": "text/x-python",
   "name": "python",
   "nbconvert_exporter": "python",
   "pygments_lexer": "ipython2",
   "version": "2.7.14"
  }
 },
 "nbformat": 4,
 "nbformat_minor": 2
}
