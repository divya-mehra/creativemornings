{
 "cells": [
  {
   "cell_type": "code",
   "execution_count": 1,
   "metadata": {
    "collapsed": true,
    "scrolled": true
   },
   "outputs": [],
   "source": [
    "import json\n",
    "import pandas as pd \n",
    "import csv\n",
    "from urlparse import urlparse\n",
    "import numpy as np"
   ]
  },
  {
   "cell_type": "code",
   "execution_count": 2,
   "metadata": {
    "collapsed": false,
    "scrolled": true
   },
   "outputs": [
    {
     "name": "stdout",
     "output_type": "stream",
     "text": [
      "/Users/divyamehra/Projects/creativemornings/Data\n"
     ]
    }
   ],
   "source": [
    "%cd ~/Projects/creativemornings/Data"
   ]
  },
  {
   "cell_type": "code",
   "execution_count": 3,
   "metadata": {
    "collapsed": false,
    "scrolled": true
   },
   "outputs": [],
   "source": [
    "with open('profiles.json', 'r') as f:\n",
    "     data = json.load(f)"
   ]
  },
  {
   "cell_type": "code",
   "execution_count": 4,
   "metadata": {
    "collapsed": false,
    "scrolled": true
   },
   "outputs": [],
   "source": [
    "rawprofiledf = pd.DataFrame(data)"
   ]
  },
  {
   "cell_type": "code",
   "execution_count": 5,
   "metadata": {
    "collapsed": false,
    "scrolled": true
   },
   "outputs": [],
   "source": [
    "rawprofiledf = rawprofiledf.drop('activity', axis=1)\n",
    "rawprofiledf = rawprofiledf.drop('answers', axis=1)\n",
    "rawprofiledf = rawprofiledf.drop('qa', axis=1)\n",
    "rawprofiledf = rawprofiledf.drop('skills', axis=1)\n",
    "#rawprofiledf = rawprofiledf.drop('bio', axis=1)"
   ]
  },
  {
   "cell_type": "code",
   "execution_count": 6,
   "metadata": {
    "collapsed": false
   },
   "outputs": [
    {
     "data": {
      "text/html": [
       "<div>\n",
       "<table border=\"1\" class=\"dataframe\">\n",
       "  <thead>\n",
       "    <tr style=\"text-align: right;\">\n",
       "      <th></th>\n",
       "      <th>attended</th>\n",
       "      <th>bio</th>\n",
       "      <th>city</th>\n",
       "      <th>desc</th>\n",
       "      <th>forhire</th>\n",
       "      <th>links</th>\n",
       "      <th>name</th>\n",
       "      <th>picture</th>\n",
       "      <th>questions</th>\n",
       "      <th>social</th>\n",
       "      <th>uploads</th>\n",
       "      <th>watchlater</th>\n",
       "    </tr>\n",
       "  </thead>\n",
       "  <tbody>\n",
       "    <tr>\n",
       "      <th>0</th>\n",
       "      <td>0</td>\n",
       "      <td>[&lt;div class=\"user-bio editable-wrap\"&gt;\\n&lt;div cl...</td>\n",
       "      <td>\\narh\\n</td>\n",
       "      <td>[\\nBuy Duratia 30mg at alldaygeneric.\\n, \\n]</td>\n",
       "      <td>[]</td>\n",
       "      <td>[https://www.alldaygeneric.com/product/duratia...</td>\n",
       "      <td>[\\nMadeline Neves\\n, \\n]</td>\n",
       "      <td>[https://media.creativemornings.com/uploads/us...</td>\n",
       "      <td>[]</td>\n",
       "      <td>[https://twitter.com/alldaygeneric, https://fa...</td>\n",
       "      <td>[1]</td>\n",
       "      <td>0</td>\n",
       "    </tr>\n",
       "    <tr>\n",
       "      <th>1</th>\n",
       "      <td>1</td>\n",
       "      <td>[]</td>\n",
       "      <td>\\narh\\n</td>\n",
       "      <td>[]</td>\n",
       "      <td>[]</td>\n",
       "      <td>[]</td>\n",
       "      <td>[\\nDorte Holst\\n]</td>\n",
       "      <td>[/assets/avatars/cm-avatar-1.svg]</td>\n",
       "      <td>[]</td>\n",
       "      <td>[]</td>\n",
       "      <td>[]</td>\n",
       "      <td>0</td>\n",
       "    </tr>\n",
       "    <tr>\n",
       "      <th>2</th>\n",
       "      <td>1</td>\n",
       "      <td>[]</td>\n",
       "      <td>\\narh\\n</td>\n",
       "      <td>[]</td>\n",
       "      <td>[]</td>\n",
       "      <td>[]</td>\n",
       "      <td>[\\nFlorence Lam\\n]</td>\n",
       "      <td>[/assets/avatars/cm-avatar-3.svg]</td>\n",
       "      <td>[]</td>\n",
       "      <td>[]</td>\n",
       "      <td>[]</td>\n",
       "      <td>0</td>\n",
       "    </tr>\n",
       "    <tr>\n",
       "      <th>3</th>\n",
       "      <td>0</td>\n",
       "      <td>[]</td>\n",
       "      <td>\\narh\\n</td>\n",
       "      <td>[]</td>\n",
       "      <td>[]</td>\n",
       "      <td>[]</td>\n",
       "      <td>[\\nMartin Ludvigsen\\n]</td>\n",
       "      <td>[/assets/avatars/cm-avatar-1.svg]</td>\n",
       "      <td>[]</td>\n",
       "      <td>[]</td>\n",
       "      <td>[]</td>\n",
       "      <td>0</td>\n",
       "    </tr>\n",
       "    <tr>\n",
       "      <th>4</th>\n",
       "      <td>1</td>\n",
       "      <td>[]</td>\n",
       "      <td>\\narh\\n</td>\n",
       "      <td>[]</td>\n",
       "      <td>[]</td>\n",
       "      <td>[]</td>\n",
       "      <td>[\\nMark Christensen\\n]</td>\n",
       "      <td>[/assets/avatars/cm-avatar-2.svg]</td>\n",
       "      <td>[]</td>\n",
       "      <td>[]</td>\n",
       "      <td>[]</td>\n",
       "      <td>0</td>\n",
       "    </tr>\n",
       "  </tbody>\n",
       "</table>\n",
       "</div>"
      ],
      "text/plain": [
       "  attended                                                bio     city  \\\n",
       "0        0  [<div class=\"user-bio editable-wrap\">\\n<div cl...  \\narh\\n   \n",
       "1        1                                                 []  \\narh\\n   \n",
       "2        1                                                 []  \\narh\\n   \n",
       "3        0                                                 []  \\narh\\n   \n",
       "4        1                                                 []  \\narh\\n   \n",
       "\n",
       "                                           desc forhire  \\\n",
       "0  [\\nBuy Duratia 30mg at alldaygeneric.\\n, \\n]      []   \n",
       "1                                            []      []   \n",
       "2                                            []      []   \n",
       "3                                            []      []   \n",
       "4                                            []      []   \n",
       "\n",
       "                                               links  \\\n",
       "0  [https://www.alldaygeneric.com/product/duratia...   \n",
       "1                                                 []   \n",
       "2                                                 []   \n",
       "3                                                 []   \n",
       "4                                                 []   \n",
       "\n",
       "                       name  \\\n",
       "0  [\\nMadeline Neves\\n, \\n]   \n",
       "1         [\\nDorte Holst\\n]   \n",
       "2        [\\nFlorence Lam\\n]   \n",
       "3    [\\nMartin Ludvigsen\\n]   \n",
       "4    [\\nMark Christensen\\n]   \n",
       "\n",
       "                                             picture questions  \\\n",
       "0  [https://media.creativemornings.com/uploads/us...        []   \n",
       "1                  [/assets/avatars/cm-avatar-1.svg]        []   \n",
       "2                  [/assets/avatars/cm-avatar-3.svg]        []   \n",
       "3                  [/assets/avatars/cm-avatar-1.svg]        []   \n",
       "4                  [/assets/avatars/cm-avatar-2.svg]        []   \n",
       "\n",
       "                                              social uploads watchlater  \n",
       "0  [https://twitter.com/alldaygeneric, https://fa...     [1]          0  \n",
       "1                                                 []      []          0  \n",
       "2                                                 []      []          0  \n",
       "3                                                 []      []          0  \n",
       "4                                                 []      []          0  "
      ]
     },
     "execution_count": 6,
     "metadata": {},
     "output_type": "execute_result"
    }
   ],
   "source": [
    "rawprofiledf.head(5)"
   ]
  },
  {
   "cell_type": "code",
   "execution_count": 7,
   "metadata": {
    "collapsed": false
   },
   "outputs": [
    {
     "data": {
      "text/plain": [
       "(224303, 12)"
      ]
     },
     "execution_count": 7,
     "metadata": {},
     "output_type": "execute_result"
    }
   ],
   "source": [
    "rawprofiledf.shape # (224303, 12)"
   ]
  },
  {
   "cell_type": "code",
   "execution_count": 8,
   "metadata": {
    "collapsed": false
   },
   "outputs": [
    {
     "data": {
      "text/plain": [
       "attended      0\n",
       "bio           0\n",
       "city          0\n",
       "desc          0\n",
       "forhire       0\n",
       "links         0\n",
       "name          0\n",
       "picture       0\n",
       "questions     0\n",
       "social        0\n",
       "uploads       0\n",
       "watchlater    0\n",
       "dtype: int64"
      ]
     },
     "execution_count": 8,
     "metadata": {},
     "output_type": "execute_result"
    }
   ],
   "source": [
    "rawprofiledf.isnull().sum() # no null values"
   ]
  },
  {
   "cell_type": "code",
   "execution_count": 9,
   "metadata": {
    "collapsed": false
   },
   "outputs": [],
   "source": [
    "rawprofiledf['city'] = rawprofiledf['city'].map(lambda x: x.strip('\\n'))\n",
    "rawprofiledf['name'] = rawprofiledf['name'].map(lambda x: x[0].strip('\\n'))"
   ]
  },
  {
   "cell_type": "code",
   "execution_count": 10,
   "metadata": {
    "collapsed": true
   },
   "outputs": [],
   "source": [
    "rawprofiledf['attended'] = rawprofiledf['attended'].map(lambda x: int(x)) \n",
    "rawprofiledf['watchlater'] = rawprofiledf['watchlater'].map(lambda x: int(x))"
   ]
  },
  {
   "cell_type": "code",
   "execution_count": 11,
   "metadata": {
    "collapsed": true
   },
   "outputs": [],
   "source": [
    "rawprofiledf['picture'] = rawprofiledf['picture'].map(lambda x: str(x))"
   ]
  },
  {
   "cell_type": "code",
   "execution_count": 170,
   "metadata": {
    "collapsed": false
   },
   "outputs": [],
   "source": [
    "rawprofiledf['haspicture'] = np.where(rawprofiledf['picture'].str.contains(\"user\", case=False, na=False), True, False)"
   ]
  },
  {
   "cell_type": "code",
   "execution_count": 171,
   "metadata": {
    "collapsed": false
   },
   "outputs": [
    {
     "data": {
      "text/plain": [
       "False    135109\n",
       "True      89194\n",
       "Name: haspicture, dtype: int64"
      ]
     },
     "execution_count": 171,
     "metadata": {},
     "output_type": "execute_result"
    }
   ],
   "source": [
    "rawprofiledf['haspicture'].value_counts()"
   ]
  },
  {
   "cell_type": "code",
   "execution_count": 14,
   "metadata": {
    "collapsed": false
   },
   "outputs": [
    {
     "data": {
      "text/plain": [
       "Index([  u'attended',        u'bio',       u'city',       u'desc',\n",
       "          u'forhire',      u'links',       u'name',    u'picture',\n",
       "        u'questions',     u'social',    u'uploads', u'watchlater',\n",
       "       u'haspicture'],\n",
       "      dtype='object')"
      ]
     },
     "execution_count": 14,
     "metadata": {},
     "output_type": "execute_result"
    }
   ],
   "source": [
    "rawprofiledf.columns"
   ]
  },
  {
   "cell_type": "code",
   "execution_count": 15,
   "metadata": {
    "collapsed": false,
    "scrolled": true
   },
   "outputs": [
    {
     "data": {
      "text/plain": [
       "count    224303.000000\n",
       "mean          2.168821\n",
       "std           3.543649\n",
       "min           0.000000\n",
       "25%           0.000000\n",
       "50%           1.000000\n",
       "75%           2.000000\n",
       "max          79.000000\n",
       "Name: attended, dtype: float64"
      ]
     },
     "execution_count": 15,
     "metadata": {},
     "output_type": "execute_result"
    }
   ],
   "source": [
    "# ATTENDED EVENTS\n",
    "rawprofiledf[rawprofiledf['attended'] > 5].describe() # 9.7% have attended more than 5 events (21,725) - with an average of 10\n",
    "rawprofiledf[rawprofiledf['attended'] > 10].describe() # 3.5% have attended more than 10 events (7,516) - with an average of 16\n",
    "rawprofiledf[rawprofiledf['attended'] == 0].describe() # 25% have never attended an event (56,435)\n",
    "rawprofiledf['attended'].describe() # (25-50-75) 0 - 1 - 2; skewed right with a mean of 2.2"
   ]
  },
  {
   "cell_type": "code",
   "execution_count": 16,
   "metadata": {
    "collapsed": false
   },
   "outputs": [
    {
     "data": {
      "text/plain": [
       "count    4393.000000\n",
       "mean        2.706123\n",
       "std         3.953844\n",
       "min         0.000000\n",
       "25%         1.000000\n",
       "50%         1.000000\n",
       "75%         3.000000\n",
       "max        38.000000\n",
       "Name: attended, dtype: float64"
      ]
     },
     "execution_count": 16,
     "metadata": {},
     "output_type": "execute_result"
    }
   ],
   "source": [
    "# CITY\n",
    "rawprofiledf['city'].value_counts() # top cities are: nyc, atl, sf, la, sd, dc, mtl, chi, pdx, mow, van, & atx (>4K)\n",
    "rawprofiledf[rawprofiledf['city'] == 'nyc']['attended'].describe() # 1.5 mean\n",
    "rawprofiledf[rawprofiledf['city'] == 'mtl']['attended'].describe() # 2.4 mean\n",
    "rawprofiledf[rawprofiledf['city'] == 'pdx']['attended'].describe() # 2.7 mean"
   ]
  },
  {
   "cell_type": "code",
   "execution_count": 17,
   "metadata": {
    "collapsed": false
   },
   "outputs": [
    {
     "data": {
      "text/plain": [
       "0"
      ]
     },
     "execution_count": 17,
     "metadata": {},
     "output_type": "execute_result"
    }
   ],
   "source": [
    "# PICTURE\n",
    "rawprofiledf['haspicture'].value_counts()\n",
    "135109/224303 # 60% do not have a photo uploaded "
   ]
  },
  {
   "cell_type": "code",
   "execution_count": 28,
   "metadata": {
    "collapsed": false
   },
   "outputs": [],
   "source": [
    "rawprofiledf['forhire'] = rawprofiledf['forhire'].map(lambda x: str(x))\n",
    "rawprofiledf['bio'] = rawprofiledf['bio'].map(lambda x: str(x))\n",
    "rawprofiledf['desc'] = rawprofiledf['desc'].map(lambda x: str(x))"
   ]
  },
  {
   "cell_type": "code",
   "execution_count": 34,
   "metadata": {
    "collapsed": false
   },
   "outputs": [
    {
     "data": {
      "text/plain": [
       "1698"
      ]
     },
     "execution_count": 34,
     "metadata": {},
     "output_type": "execute_result"
    }
   ],
   "source": [
    "rawprofiledf['forhire'].value_counts()\n",
    "38087/224303 #17% are for hire\n",
    "\n",
    "rawprofiledf[rawprofiledf['desc'] == '[]'].describe() # 111,549\n",
    "111549/224303 #50% have no description"
   ]
  },
  {
   "cell_type": "code",
   "execution_count": 162,
   "metadata": {
    "collapsed": false
   },
   "outputs": [
    {
     "data": {
      "text/plain": [
       "0    203590\n",
       "3      3741\n",
       "1      3284\n",
       "8      2810\n",
       "9      2514\n",
       "2      2339\n",
       "7      1590\n",
       "4      1507\n",
       "5      1477\n",
       "6      1451\n",
       "Name: qcount, dtype: int64"
      ]
     },
     "execution_count": 162,
     "metadata": {},
     "output_type": "execute_result"
    }
   ],
   "source": [
    "rawprofiledf['jobseeker'] = np.where(rawprofiledf['forhire'].str.contains(\"hire\", case=False, na=False), True, False)\n",
    "rawprofiledf['jobseeker'].value_counts()\n",
    "\n",
    "rawprofiledf['hasdesc'] = np.where(rawprofiledf['desc'] == '[]', False, True)\n",
    "rawprofiledf['hasdesc'].value_counts()\n",
    "\n",
    "rawprofiledf['hasbio'] = np.where(rawprofiledf['bio'] == '[]', False, True)\n",
    "rawprofiledf['hasbio'].value_counts()\n",
    "\n",
    "rawprofiledf['uploadcount'] = [len(x) for x in rawprofiledf['uploads']]\n",
    "rawprofiledf['uploadcount'].value_counts()\n",
    "\n",
    "rawprofiledf['qcount'] = [len(x) for x in rawprofiledf['questions']]\n",
    "rawprofiledf['qcount'].value_counts()"
   ]
  },
  {
   "cell_type": "code",
   "execution_count": 103,
   "metadata": {
    "collapsed": false
   },
   "outputs": [],
   "source": [
    "rawprofiledf['strlinks'] = rawprofiledf['links'].map(lambda x: str(x))"
   ]
  },
  {
   "cell_type": "code",
   "execution_count": 156,
   "metadata": {
    "collapsed": false
   },
   "outputs": [
    {
     "data": {
      "text/plain": [
       "False    158266\n",
       "True      66037\n",
       "Name: haslinks, dtype: int64"
      ]
     },
     "execution_count": 156,
     "metadata": {},
     "output_type": "execute_result"
    }
   ],
   "source": [
    "rawprofiledf['haslinks'] = np.where(rawprofiledf['strlinks'] == '[]', False, True)\n",
    "rawprofiledf['haslinks'].value_counts()"
   ]
  },
  {
   "cell_type": "code",
   "execution_count": 157,
   "metadata": {
    "collapsed": false
   },
   "outputs": [
    {
     "data": {
      "text/plain": [
       "False    183352\n",
       "True      40951\n",
       "Name: twitter, dtype: int64"
      ]
     },
     "execution_count": 157,
     "metadata": {},
     "output_type": "execute_result"
    }
   ],
   "source": [
    "rawprofiledf['twitter'] = np.where(rawprofiledf['strlinks'].str.contains(\"twitter\", case=False, na=False), True, False)\n",
    "rawprofiledf['twitter'].value_counts()"
   ]
  },
  {
   "cell_type": "code",
   "execution_count": 158,
   "metadata": {
    "collapsed": false
   },
   "outputs": [
    {
     "data": {
      "text/plain": [
       "False    212585\n",
       "True      11718\n",
       "Name: tco, dtype: int64"
      ]
     },
     "execution_count": 158,
     "metadata": {},
     "output_type": "execute_result"
    }
   ],
   "source": [
    "rawprofiledf['tco'] = np.where(rawprofiledf['strlinks'].str.contains(\"t.co\", case=False, na=False), True, False)\n",
    "rawprofiledf['tco'].value_counts()"
   ]
  },
  {
   "cell_type": "code",
   "execution_count": 160,
   "metadata": {
    "collapsed": false
   },
   "outputs": [
    {
     "data": {
      "text/plain": [
       "False    198679\n",
       "True      25624\n",
       "Name: facebook, dtype: int64"
      ]
     },
     "execution_count": 160,
     "metadata": {},
     "output_type": "execute_result"
    }
   ],
   "source": [
    "rawprofiledf['facebook'] = np.where(rawprofiledf['strlinks'].str.contains(\"facebook\", case=False, na=False), True, False)\n",
    "rawprofiledf['facebook'].value_counts()"
   ]
  },
  {
   "cell_type": "code",
   "execution_count": 159,
   "metadata": {
    "collapsed": false
   },
   "outputs": [
    {
     "data": {
      "text/plain": [
       "False    221119\n",
       "True       3184\n",
       "Name: linkedin, dtype: int64"
      ]
     },
     "execution_count": 159,
     "metadata": {},
     "output_type": "execute_result"
    }
   ],
   "source": [
    "rawprofiledf['linkedin'] = np.where(rawprofiledf['strlinks'].str.contains(\"linkedin\", case=False, na=False), True, False)\n",
    "rawprofiledf['linkedin'].value_counts()"
   ]
  },
  {
   "cell_type": "code",
   "execution_count": 161,
   "metadata": {
    "collapsed": false
   },
   "outputs": [
    {
     "data": {
      "text/plain": [
       "False    219479\n",
       "True       4824\n",
       "Name: instagram, dtype: int64"
      ]
     },
     "execution_count": 161,
     "metadata": {},
     "output_type": "execute_result"
    }
   ],
   "source": [
    "rawprofiledf['instagram'] = np.where(rawprofiledf['strlinks'].str.contains(\"instagram\", case=False, na=False), True, False)\n",
    "rawprofiledf['instagram'].value_counts()"
   ]
  },
  {
   "cell_type": "code",
   "execution_count": 163,
   "metadata": {
    "collapsed": false,
    "scrolled": true
   },
   "outputs": [
    {
     "data": {
      "text/plain": [
       "Index([   u'attended',         u'bio',        u'city',        u'desc',\n",
       "           u'forhire',       u'links',        u'name',     u'picture',\n",
       "         u'questions',      u'social',     u'uploads',  u'watchlater',\n",
       "        u'haspicture',   u'jobseeker',     u'hasdesc',      u'hasbio',\n",
       "       u'uploadcount',      u'qcount',    u'strlinks',     u'twitter',\n",
       "          u'haslinks',    u'facebook',         u'tco',    u'linkedin',\n",
       "         u'instagram'],\n",
       "      dtype='object')"
      ]
     },
     "execution_count": 163,
     "metadata": {},
     "output_type": "execute_result"
    }
   ],
   "source": [
    "rawprofiledf.columns "
   ]
  },
  {
   "cell_type": "code",
   "execution_count": 172,
   "metadata": {
    "collapsed": true
   },
   "outputs": [],
   "source": [
    "binarydf = rawprofiledf.filter(['name','city','attended', 'jobseeker', 'hasdesc', 'haspicture', 'hasbio',\n",
    "                      'qcount', 'uploadcount', 'haslinks', 'twitter', 'tco', 'facebook', 'linkedin', 'instagram',\n",
    "                      'watchlater'], axis=1)"
   ]
  },
  {
   "cell_type": "code",
   "execution_count": 173,
   "metadata": {
    "collapsed": false
   },
   "outputs": [
    {
     "data": {
      "text/plain": [
       "Index([u'name', u'city', u'attended', u'jobseeker', u'hasdesc', u'haspicture',\n",
       "       u'hasbio', u'qcount', u'uploadcount', u'haslinks', u'twitter', u'tco',\n",
       "       u'facebook', u'linkedin', u'instagram', u'watchlater'],\n",
       "      dtype='object')"
      ]
     },
     "execution_count": 173,
     "metadata": {},
     "output_type": "execute_result"
    }
   ],
   "source": [
    "binarydf.columns"
   ]
  },
  {
   "cell_type": "code",
   "execution_count": 174,
   "metadata": {
    "collapsed": false
   },
   "outputs": [
    {
     "data": {
      "text/html": [
       "<div>\n",
       "<table border=\"1\" class=\"dataframe\">\n",
       "  <thead>\n",
       "    <tr style=\"text-align: right;\">\n",
       "      <th></th>\n",
       "      <th>attended</th>\n",
       "      <th>qcount</th>\n",
       "      <th>uploadcount</th>\n",
       "      <th>watchlater</th>\n",
       "    </tr>\n",
       "  </thead>\n",
       "  <tbody>\n",
       "    <tr>\n",
       "      <th>count</th>\n",
       "      <td>224303.000000</td>\n",
       "      <td>224303.000000</td>\n",
       "      <td>224303.000000</td>\n",
       "      <td>224303.000000</td>\n",
       "    </tr>\n",
       "    <tr>\n",
       "      <th>mean</th>\n",
       "      <td>2.168821</td>\n",
       "      <td>0.434858</td>\n",
       "      <td>0.148852</td>\n",
       "      <td>0.023045</td>\n",
       "    </tr>\n",
       "    <tr>\n",
       "      <th>std</th>\n",
       "      <td>3.543649</td>\n",
       "      <td>1.606031</td>\n",
       "      <td>0.696207</td>\n",
       "      <td>0.705380</td>\n",
       "    </tr>\n",
       "    <tr>\n",
       "      <th>min</th>\n",
       "      <td>0.000000</td>\n",
       "      <td>0.000000</td>\n",
       "      <td>0.000000</td>\n",
       "      <td>0.000000</td>\n",
       "    </tr>\n",
       "    <tr>\n",
       "      <th>25%</th>\n",
       "      <td>0.000000</td>\n",
       "      <td>0.000000</td>\n",
       "      <td>0.000000</td>\n",
       "      <td>0.000000</td>\n",
       "    </tr>\n",
       "    <tr>\n",
       "      <th>50%</th>\n",
       "      <td>1.000000</td>\n",
       "      <td>0.000000</td>\n",
       "      <td>0.000000</td>\n",
       "      <td>0.000000</td>\n",
       "    </tr>\n",
       "    <tr>\n",
       "      <th>75%</th>\n",
       "      <td>2.000000</td>\n",
       "      <td>0.000000</td>\n",
       "      <td>0.000000</td>\n",
       "      <td>0.000000</td>\n",
       "    </tr>\n",
       "    <tr>\n",
       "      <th>max</th>\n",
       "      <td>79.000000</td>\n",
       "      <td>9.000000</td>\n",
       "      <td>4.000000</td>\n",
       "      <td>153.000000</td>\n",
       "    </tr>\n",
       "  </tbody>\n",
       "</table>\n",
       "</div>"
      ],
      "text/plain": [
       "            attended         qcount    uploadcount     watchlater\n",
       "count  224303.000000  224303.000000  224303.000000  224303.000000\n",
       "mean        2.168821       0.434858       0.148852       0.023045\n",
       "std         3.543649       1.606031       0.696207       0.705380\n",
       "min         0.000000       0.000000       0.000000       0.000000\n",
       "25%         0.000000       0.000000       0.000000       0.000000\n",
       "50%         1.000000       0.000000       0.000000       0.000000\n",
       "75%         2.000000       0.000000       0.000000       0.000000\n",
       "max        79.000000       9.000000       4.000000     153.000000"
      ]
     },
     "execution_count": 174,
     "metadata": {},
     "output_type": "execute_result"
    }
   ],
   "source": [
    "binarydf.describe()"
   ]
  },
  {
   "cell_type": "code",
   "execution_count": 175,
   "metadata": {
    "collapsed": false
   },
   "outputs": [],
   "source": [
    "binarydf.jobseeker = binarydf.jobseeker.astype(int)\n",
    "binarydf.hasdesc = binarydf.hasdesc.astype(int)\n",
    "binarydf.hasbio = binarydf.hasbio.astype(int)\n",
    "binarydf.haspicture = binarydf.haspicture.astype(int)\n",
    "binarydf.haslinks = binarydf.haslinks.astype(int)\n",
    "binarydf.twitter = binarydf.twitter.astype(int)\n",
    "binarydf.tco = binarydf.tco.astype(int)\n",
    "binarydf.linkedin = binarydf.linkedin.astype(int)\n",
    "binarydf.facebook = binarydf.facebook.astype(int)\n",
    "binarydf.instagram = binarydf.instagram.astype(int)"
   ]
  },
  {
   "cell_type": "code",
   "execution_count": 178,
   "metadata": {
    "collapsed": false
   },
   "outputs": [
    {
     "data": {
      "text/html": [
       "<div>\n",
       "<table border=\"1\" class=\"dataframe\">\n",
       "  <thead>\n",
       "    <tr style=\"text-align: right;\">\n",
       "      <th></th>\n",
       "      <th>attended</th>\n",
       "      <th>jobseeker</th>\n",
       "      <th>hasdesc</th>\n",
       "      <th>haspicture</th>\n",
       "      <th>hasbio</th>\n",
       "      <th>qcount</th>\n",
       "      <th>uploadcount</th>\n",
       "      <th>haslinks</th>\n",
       "      <th>twitter</th>\n",
       "      <th>tco</th>\n",
       "      <th>facebook</th>\n",
       "      <th>linkedin</th>\n",
       "      <th>instagram</th>\n",
       "      <th>watchlater</th>\n",
       "    </tr>\n",
       "  </thead>\n",
       "  <tbody>\n",
       "    <tr>\n",
       "      <th>count</th>\n",
       "      <td>224303.000000</td>\n",
       "      <td>224303.000000</td>\n",
       "      <td>224303.000000</td>\n",
       "      <td>224303.000000</td>\n",
       "      <td>224303.000000</td>\n",
       "      <td>224303.000000</td>\n",
       "      <td>224303.000000</td>\n",
       "      <td>224303.000000</td>\n",
       "      <td>224303.000000</td>\n",
       "      <td>224303.000000</td>\n",
       "      <td>224303.000000</td>\n",
       "      <td>224303.000000</td>\n",
       "      <td>224303.000000</td>\n",
       "      <td>224303.000000</td>\n",
       "    </tr>\n",
       "    <tr>\n",
       "      <th>mean</th>\n",
       "      <td>2.168821</td>\n",
       "      <td>0.169802</td>\n",
       "      <td>0.502686</td>\n",
       "      <td>0.397650</td>\n",
       "      <td>0.192686</td>\n",
       "      <td>0.434858</td>\n",
       "      <td>0.148852</td>\n",
       "      <td>0.294410</td>\n",
       "      <td>0.182570</td>\n",
       "      <td>0.052242</td>\n",
       "      <td>0.114238</td>\n",
       "      <td>0.014195</td>\n",
       "      <td>0.021507</td>\n",
       "      <td>0.023045</td>\n",
       "    </tr>\n",
       "    <tr>\n",
       "      <th>std</th>\n",
       "      <td>3.543649</td>\n",
       "      <td>0.375459</td>\n",
       "      <td>0.499994</td>\n",
       "      <td>0.489413</td>\n",
       "      <td>0.394409</td>\n",
       "      <td>1.606031</td>\n",
       "      <td>0.696207</td>\n",
       "      <td>0.455778</td>\n",
       "      <td>0.386314</td>\n",
       "      <td>0.222515</td>\n",
       "      <td>0.318101</td>\n",
       "      <td>0.118295</td>\n",
       "      <td>0.145066</td>\n",
       "      <td>0.705380</td>\n",
       "    </tr>\n",
       "    <tr>\n",
       "      <th>min</th>\n",
       "      <td>0.000000</td>\n",
       "      <td>0.000000</td>\n",
       "      <td>0.000000</td>\n",
       "      <td>0.000000</td>\n",
       "      <td>0.000000</td>\n",
       "      <td>0.000000</td>\n",
       "      <td>0.000000</td>\n",
       "      <td>0.000000</td>\n",
       "      <td>0.000000</td>\n",
       "      <td>0.000000</td>\n",
       "      <td>0.000000</td>\n",
       "      <td>0.000000</td>\n",
       "      <td>0.000000</td>\n",
       "      <td>0.000000</td>\n",
       "    </tr>\n",
       "    <tr>\n",
       "      <th>25%</th>\n",
       "      <td>0.000000</td>\n",
       "      <td>0.000000</td>\n",
       "      <td>0.000000</td>\n",
       "      <td>0.000000</td>\n",
       "      <td>0.000000</td>\n",
       "      <td>0.000000</td>\n",
       "      <td>0.000000</td>\n",
       "      <td>0.000000</td>\n",
       "      <td>0.000000</td>\n",
       "      <td>0.000000</td>\n",
       "      <td>0.000000</td>\n",
       "      <td>0.000000</td>\n",
       "      <td>0.000000</td>\n",
       "      <td>0.000000</td>\n",
       "    </tr>\n",
       "    <tr>\n",
       "      <th>50%</th>\n",
       "      <td>1.000000</td>\n",
       "      <td>0.000000</td>\n",
       "      <td>1.000000</td>\n",
       "      <td>0.000000</td>\n",
       "      <td>0.000000</td>\n",
       "      <td>0.000000</td>\n",
       "      <td>0.000000</td>\n",
       "      <td>0.000000</td>\n",
       "      <td>0.000000</td>\n",
       "      <td>0.000000</td>\n",
       "      <td>0.000000</td>\n",
       "      <td>0.000000</td>\n",
       "      <td>0.000000</td>\n",
       "      <td>0.000000</td>\n",
       "    </tr>\n",
       "    <tr>\n",
       "      <th>75%</th>\n",
       "      <td>2.000000</td>\n",
       "      <td>0.000000</td>\n",
       "      <td>1.000000</td>\n",
       "      <td>1.000000</td>\n",
       "      <td>0.000000</td>\n",
       "      <td>0.000000</td>\n",
       "      <td>0.000000</td>\n",
       "      <td>1.000000</td>\n",
       "      <td>0.000000</td>\n",
       "      <td>0.000000</td>\n",
       "      <td>0.000000</td>\n",
       "      <td>0.000000</td>\n",
       "      <td>0.000000</td>\n",
       "      <td>0.000000</td>\n",
       "    </tr>\n",
       "    <tr>\n",
       "      <th>max</th>\n",
       "      <td>79.000000</td>\n",
       "      <td>1.000000</td>\n",
       "      <td>1.000000</td>\n",
       "      <td>1.000000</td>\n",
       "      <td>1.000000</td>\n",
       "      <td>9.000000</td>\n",
       "      <td>4.000000</td>\n",
       "      <td>1.000000</td>\n",
       "      <td>1.000000</td>\n",
       "      <td>1.000000</td>\n",
       "      <td>1.000000</td>\n",
       "      <td>1.000000</td>\n",
       "      <td>1.000000</td>\n",
       "      <td>153.000000</td>\n",
       "    </tr>\n",
       "  </tbody>\n",
       "</table>\n",
       "</div>"
      ],
      "text/plain": [
       "            attended      jobseeker        hasdesc     haspicture  \\\n",
       "count  224303.000000  224303.000000  224303.000000  224303.000000   \n",
       "mean        2.168821       0.169802       0.502686       0.397650   \n",
       "std         3.543649       0.375459       0.499994       0.489413   \n",
       "min         0.000000       0.000000       0.000000       0.000000   \n",
       "25%         0.000000       0.000000       0.000000       0.000000   \n",
       "50%         1.000000       0.000000       1.000000       0.000000   \n",
       "75%         2.000000       0.000000       1.000000       1.000000   \n",
       "max        79.000000       1.000000       1.000000       1.000000   \n",
       "\n",
       "              hasbio         qcount    uploadcount       haslinks  \\\n",
       "count  224303.000000  224303.000000  224303.000000  224303.000000   \n",
       "mean        0.192686       0.434858       0.148852       0.294410   \n",
       "std         0.394409       1.606031       0.696207       0.455778   \n",
       "min         0.000000       0.000000       0.000000       0.000000   \n",
       "25%         0.000000       0.000000       0.000000       0.000000   \n",
       "50%         0.000000       0.000000       0.000000       0.000000   \n",
       "75%         0.000000       0.000000       0.000000       1.000000   \n",
       "max         1.000000       9.000000       4.000000       1.000000   \n",
       "\n",
       "             twitter            tco       facebook       linkedin  \\\n",
       "count  224303.000000  224303.000000  224303.000000  224303.000000   \n",
       "mean        0.182570       0.052242       0.114238       0.014195   \n",
       "std         0.386314       0.222515       0.318101       0.118295   \n",
       "min         0.000000       0.000000       0.000000       0.000000   \n",
       "25%         0.000000       0.000000       0.000000       0.000000   \n",
       "50%         0.000000       0.000000       0.000000       0.000000   \n",
       "75%         0.000000       0.000000       0.000000       0.000000   \n",
       "max         1.000000       1.000000       1.000000       1.000000   \n",
       "\n",
       "           instagram     watchlater  \n",
       "count  224303.000000  224303.000000  \n",
       "mean        0.021507       0.023045  \n",
       "std         0.145066       0.705380  \n",
       "min         0.000000       0.000000  \n",
       "25%         0.000000       0.000000  \n",
       "50%         0.000000       0.000000  \n",
       "75%         0.000000       0.000000  \n",
       "max         1.000000     153.000000  "
      ]
     },
     "execution_count": 178,
     "metadata": {},
     "output_type": "execute_result"
    }
   ],
   "source": [
    "binarydf.describe()"
   ]
  },
  {
   "cell_type": "code",
   "execution_count": 179,
   "metadata": {
    "collapsed": true
   },
   "outputs": [],
   "source": [
    "binarydf = binarydf.rename(columns={'hasdesc': 'description', 'haspicture': 'picture', 'hasbio': 'bio',\n",
    "                                   'haslinks': 'links', 'uploadcount': 'uploads', 'qcount': 'questions'})"
   ]
  },
  {
   "cell_type": "code",
   "execution_count": 183,
   "metadata": {
    "collapsed": false
   },
   "outputs": [
    {
     "data": {
      "text/plain": [
       "(224303, 16)"
      ]
     },
     "execution_count": 183,
     "metadata": {},
     "output_type": "execute_result"
    }
   ],
   "source": [
    "binarydf.shape"
   ]
  },
  {
   "cell_type": "code",
   "execution_count": 184,
   "metadata": {
    "collapsed": true
   },
   "outputs": [],
   "source": [
    "import matplotlib.pyplot as plt\n",
    "%matplotlib inline"
   ]
  },
  {
   "cell_type": "code",
   "execution_count": null,
   "metadata": {
    "collapsed": true
   },
   "outputs": [],
   "source": [
    "df.to_csv(file_name, encoding='utf-8', index=False)\n"
   ]
  }
 ],
 "metadata": {
  "kernelspec": {
   "display_name": "Python 2",
   "language": "python",
   "name": "python2"
  },
  "language_info": {
   "codemirror_mode": {
    "name": "ipython",
    "version": 2
   },
   "file_extension": ".py",
   "mimetype": "text/x-python",
   "name": "python",
   "nbconvert_exporter": "python",
   "pygments_lexer": "ipython2",
   "version": "2.7.14"
  }
 },
 "nbformat": 4,
 "nbformat_minor": 2
}
